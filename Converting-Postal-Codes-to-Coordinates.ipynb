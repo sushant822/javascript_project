{
 "cells": [
  {
   "cell_type": "code",
   "execution_count": 1,
   "metadata": {},
   "outputs": [
    {
     "name": "stdout",
     "output_type": "stream",
     "text": [
      "Libraries imported!\n"
     ]
    }
   ],
   "source": [
    "import pandas as pd\n",
    "import numpy as np\n",
    "import requests\n",
    "from bs4 import BeautifulSoup\n",
    "import time\n",
    "from splinter import Browser\n",
    "import warnings\n",
    "warnings.filterwarnings('ignore')\n",
    "print('Libraries imported!')"
   ]
  },
  {
   "cell_type": "markdown",
   "metadata": {},
   "source": [
    "#url = 'https://geocoder.ca/?locate='\n",
    "#postalCode = 'T2L+0C9'/\n",
    "#page = requests.get(url+postalCode)\n",
    "#soup = BeautifulSoup(page.text, \"html.parser\")\n",
    "#print(soup.prettify())"
   ]
  },
  {
   "cell_type": "markdown",
   "metadata": {},
   "source": [
    "tables = pd.read_html(url+postalCode)\n",
    "table_df = tables[1]\n",
    "table_df.head()"
   ]
  },
  {
   "cell_type": "markdown",
   "metadata": {},
   "source": [
    "title = soup.find('li', class_='pull-right').get_text()\n",
    "print(title)"
   ]
  },
  {
   "cell_type": "code",
   "execution_count": 2,
   "metadata": {},
   "outputs": [
    {
     "data": {
      "text/html": [
       "<div>\n",
       "<style scoped>\n",
       "    .dataframe tbody tr th:only-of-type {\n",
       "        vertical-align: middle;\n",
       "    }\n",
       "\n",
       "    .dataframe tbody tr th {\n",
       "        vertical-align: top;\n",
       "    }\n",
       "\n",
       "    .dataframe thead th {\n",
       "        text-align: right;\n",
       "    }\n",
       "</style>\n",
       "<table border=\"1\" class=\"dataframe\">\n",
       "  <thead>\n",
       "    <tr style=\"text-align: right;\">\n",
       "      <th></th>\n",
       "      <th>postal_code</th>\n",
       "      <th>walk_score</th>\n",
       "      <th>bike_score</th>\n",
       "      <th>transit_score</th>\n",
       "    </tr>\n",
       "  </thead>\n",
       "  <tbody>\n",
       "    <tr>\n",
       "      <th>0</th>\n",
       "      <td>T2G 0G3</td>\n",
       "      <td>91.0</td>\n",
       "      <td>92.0</td>\n",
       "      <td>77.0</td>\n",
       "    </tr>\n",
       "    <tr>\n",
       "      <th>1</th>\n",
       "      <td>T3M 0A8</td>\n",
       "      <td>36.0</td>\n",
       "      <td>63.0</td>\n",
       "      <td>40.0</td>\n",
       "    </tr>\n",
       "    <tr>\n",
       "      <th>2</th>\n",
       "      <td>T2T 3E9</td>\n",
       "      <td>90.0</td>\n",
       "      <td>82.0</td>\n",
       "      <td>66.0</td>\n",
       "    </tr>\n",
       "    <tr>\n",
       "      <th>3</th>\n",
       "      <td>T2J 7H1</td>\n",
       "      <td>53.0</td>\n",
       "      <td>68.0</td>\n",
       "      <td>32.0</td>\n",
       "    </tr>\n",
       "    <tr>\n",
       "      <th>4</th>\n",
       "      <td>T3L 1Y4</td>\n",
       "      <td>39.0</td>\n",
       "      <td>61.0</td>\n",
       "      <td>41.0</td>\n",
       "    </tr>\n",
       "  </tbody>\n",
       "</table>\n",
       "</div>"
      ],
      "text/plain": [
       "  postal_code  walk_score  bike_score  transit_score\n",
       "0     T2G 0G3        91.0        92.0           77.0\n",
       "1     T3M 0A8        36.0        63.0           40.0\n",
       "2     T2T 3E9        90.0        82.0           66.0\n",
       "3     T2J 7H1        53.0        68.0           32.0\n",
       "4     T3L 1Y4        39.0        61.0           41.0"
      ]
     },
     "execution_count": 2,
     "metadata": {},
     "output_type": "execute_result"
    }
   ],
   "source": [
    "csvData = pd.read_csv('data/score_df.csv')\n",
    "csvData.head()"
   ]
  },
  {
   "cell_type": "code",
   "execution_count": 3,
   "metadata": {},
   "outputs": [
    {
     "data": {
      "text/plain": [
       "0    T2G 0G3\n",
       "1    T3M 0A8\n",
       "2    T2T 3E9\n",
       "3    T2J 7H1\n",
       "4    T3L 1Y4\n",
       "Name: postal_code, dtype: object"
      ]
     },
     "execution_count": 3,
     "metadata": {},
     "output_type": "execute_result"
    }
   ],
   "source": [
    "csvDataPC = csvData['postal_code']\n",
    "csvDataPC.head()\n",
    "#testCSV = csvDataPC.head(20)"
   ]
  },
  {
   "cell_type": "code",
   "execution_count": 4,
   "metadata": {},
   "outputs": [
    {
     "data": {
      "text/plain": [
       "2270"
      ]
     },
     "execution_count": 4,
     "metadata": {},
     "output_type": "execute_result"
    }
   ],
   "source": [
    "len(csvDataPC)"
   ]
  },
  {
   "cell_type": "markdown",
   "metadata": {},
   "source": [
    "csvDataPC = csvDataPC.str.replace(' ', '+')\n",
    "testCSV = csvDataPC.head(20)"
   ]
  },
  {
   "cell_type": "markdown",
   "metadata": {},
   "source": [
    "coordinates = []\n",
    "postalCodes = []\n",
    "for i in csvDataPC:\n",
    "    url = 'https://geocoder.ca/?locate='\n",
    "    page = requests.get(url+str(i))\n",
    "    time.sleep(5)\n",
    "    soup = BeautifulSoup(page.text, \"html.parser\")\n",
    "    try:\n",
    "        title = soup.find('li', class_='pull-right').get_text()\n",
    "    except:\n",
    "        title = 'None'\n",
    "    coordinates.append(title)\n",
    "    #postalCodesP = i.str.replace('+', ' ')\n",
    "    postalCodes.append(i)"
   ]
  },
  {
   "cell_type": "markdown",
   "metadata": {},
   "source": [
    "coordinatesDF = pd.DataFrame(coordinates, postalCodes)\n",
    "coordinatesDF.reset_index(inplace=True)"
   ]
  },
  {
   "cell_type": "markdown",
   "metadata": {},
   "source": [
    "coordinatesDF.columns=['postal_codes', 'coordinates']\n",
    "coordinatesDF.head()"
   ]
  },
  {
   "cell_type": "code",
   "execution_count": 6,
   "metadata": {},
   "outputs": [],
   "source": [
    "import pgeocode"
   ]
  },
  {
   "cell_type": "code",
   "execution_count": 7,
   "metadata": {},
   "outputs": [],
   "source": [
    "coordinates = []\n",
    "postalCodes = []\n",
    "for i in csvDataPC:\n",
    "    country_code = pgeocode.Nominatim('ca')\n",
    "    coord = country_code.query_postal_code(str(i))\n",
    "    x = [coord.latitude, coord.longitude]\n",
    "    coordinates.append(x)\n",
    "    postalCodes.append(str(i))"
   ]
  },
  {
   "cell_type": "code",
   "execution_count": 10,
   "metadata": {},
   "outputs": [
    {
     "data": {
      "text/plain": [
       "2270"
      ]
     },
     "execution_count": 10,
     "metadata": {},
     "output_type": "execute_result"
    }
   ],
   "source": [
    "len(coordinates)"
   ]
  },
  {
   "cell_type": "code",
   "execution_count": 11,
   "metadata": {},
   "outputs": [],
   "source": [
    "coordinatesDF = pd.DataFrame(coordinates, postalCodes)\n",
    "coordinatesDF.reset_index(inplace=True)"
   ]
  },
  {
   "cell_type": "code",
   "execution_count": 12,
   "metadata": {},
   "outputs": [
    {
     "data": {
      "text/html": [
       "<div>\n",
       "<style scoped>\n",
       "    .dataframe tbody tr th:only-of-type {\n",
       "        vertical-align: middle;\n",
       "    }\n",
       "\n",
       "    .dataframe tbody tr th {\n",
       "        vertical-align: top;\n",
       "    }\n",
       "\n",
       "    .dataframe thead th {\n",
       "        text-align: right;\n",
       "    }\n",
       "</style>\n",
       "<table border=\"1\" class=\"dataframe\">\n",
       "  <thead>\n",
       "    <tr style=\"text-align: right;\">\n",
       "      <th></th>\n",
       "      <th>index</th>\n",
       "      <th>0</th>\n",
       "      <th>1</th>\n",
       "    </tr>\n",
       "  </thead>\n",
       "  <tbody>\n",
       "    <tr>\n",
       "      <th>0</th>\n",
       "      <td>T2G 0G3</td>\n",
       "      <td>51.0272</td>\n",
       "      <td>-114.0349</td>\n",
       "    </tr>\n",
       "    <tr>\n",
       "      <th>1</th>\n",
       "      <td>T3M 0A8</td>\n",
       "      <td>50.8796</td>\n",
       "      <td>-113.9555</td>\n",
       "    </tr>\n",
       "    <tr>\n",
       "      <th>2</th>\n",
       "      <td>T2T 3E9</td>\n",
       "      <td>51.0242</td>\n",
       "      <td>-114.1004</td>\n",
       "    </tr>\n",
       "    <tr>\n",
       "      <th>3</th>\n",
       "      <td>T2J 7H1</td>\n",
       "      <td>50.8476</td>\n",
       "      <td>-114.1958</td>\n",
       "    </tr>\n",
       "    <tr>\n",
       "      <th>4</th>\n",
       "      <td>T3L 1Y4</td>\n",
       "      <td>51.1467</td>\n",
       "      <td>-114.3133</td>\n",
       "    </tr>\n",
       "  </tbody>\n",
       "</table>\n",
       "</div>"
      ],
      "text/plain": [
       "     index        0         1\n",
       "0  T2G 0G3  51.0272 -114.0349\n",
       "1  T3M 0A8  50.8796 -113.9555\n",
       "2  T2T 3E9  51.0242 -114.1004\n",
       "3  T2J 7H1  50.8476 -114.1958\n",
       "4  T3L 1Y4  51.1467 -114.3133"
      ]
     },
     "execution_count": 12,
     "metadata": {},
     "output_type": "execute_result"
    }
   ],
   "source": [
    "coordinatesDF.head()"
   ]
  },
  {
   "cell_type": "code",
   "execution_count": 13,
   "metadata": {},
   "outputs": [
    {
     "data": {
      "text/html": [
       "<div>\n",
       "<style scoped>\n",
       "    .dataframe tbody tr th:only-of-type {\n",
       "        vertical-align: middle;\n",
       "    }\n",
       "\n",
       "    .dataframe tbody tr th {\n",
       "        vertical-align: top;\n",
       "    }\n",
       "\n",
       "    .dataframe thead th {\n",
       "        text-align: right;\n",
       "    }\n",
       "</style>\n",
       "<table border=\"1\" class=\"dataframe\">\n",
       "  <thead>\n",
       "    <tr style=\"text-align: right;\">\n",
       "      <th></th>\n",
       "      <th>postal_codes</th>\n",
       "      <th>lat</th>\n",
       "      <th>long</th>\n",
       "    </tr>\n",
       "  </thead>\n",
       "  <tbody>\n",
       "    <tr>\n",
       "      <th>0</th>\n",
       "      <td>T2G 0G3</td>\n",
       "      <td>51.0272</td>\n",
       "      <td>-114.0349</td>\n",
       "    </tr>\n",
       "    <tr>\n",
       "      <th>1</th>\n",
       "      <td>T3M 0A8</td>\n",
       "      <td>50.8796</td>\n",
       "      <td>-113.9555</td>\n",
       "    </tr>\n",
       "    <tr>\n",
       "      <th>2</th>\n",
       "      <td>T2T 3E9</td>\n",
       "      <td>51.0242</td>\n",
       "      <td>-114.1004</td>\n",
       "    </tr>\n",
       "    <tr>\n",
       "      <th>3</th>\n",
       "      <td>T2J 7H1</td>\n",
       "      <td>50.8476</td>\n",
       "      <td>-114.1958</td>\n",
       "    </tr>\n",
       "    <tr>\n",
       "      <th>4</th>\n",
       "      <td>T3L 1Y4</td>\n",
       "      <td>51.1467</td>\n",
       "      <td>-114.3133</td>\n",
       "    </tr>\n",
       "  </tbody>\n",
       "</table>\n",
       "</div>"
      ],
      "text/plain": [
       "  postal_codes      lat      long\n",
       "0      T2G 0G3  51.0272 -114.0349\n",
       "1      T3M 0A8  50.8796 -113.9555\n",
       "2      T2T 3E9  51.0242 -114.1004\n",
       "3      T2J 7H1  50.8476 -114.1958\n",
       "4      T3L 1Y4  51.1467 -114.3133"
      ]
     },
     "execution_count": 13,
     "metadata": {},
     "output_type": "execute_result"
    }
   ],
   "source": [
    "coordinatesDF.columns=['postal_codes', 'lat', 'long']\n",
    "coordinatesDF.head()"
   ]
  },
  {
   "cell_type": "code",
   "execution_count": 14,
   "metadata": {},
   "outputs": [],
   "source": [
    "coordinatesDF.to_csv('data/cal_coordinatesDF.csv', index=False)"
   ]
  },
  {
   "cell_type": "code",
   "execution_count": 15,
   "metadata": {},
   "outputs": [
    {
     "data": {
      "text/plain": [
       "<pymongo.results.InsertManyResult at 0x176852442c8>"
      ]
     },
     "execution_count": 15,
     "metadata": {},
     "output_type": "execute_result"
    }
   ],
   "source": [
    "import pymongo\n",
    "from pymongo import MongoClient\n",
    "\n",
    "conn = 'mongodb://localhost:27017'\n",
    "\n",
    "## Making a Connection with MongoClient\n",
    "client = MongoClient(conn)\n",
    "# database\n",
    "db = client.realestate_db\n",
    "\n",
    "\n",
    "collection = db.coordinates\n",
    "coordinates_dict = coordinatesDF.to_dict(\"records\")\n",
    "collection.insert_many(coordinates_dict)"
   ]
  },
  {
   "cell_type": "code",
   "execution_count": 18,
   "metadata": {},
   "outputs": [],
   "source": [
    "from sqlalchemy import create_engine"
   ]
  },
  {
   "cell_type": "code",
   "execution_count": 19,
   "metadata": {},
   "outputs": [],
   "source": [
    "rds_connection_string = 'postgres:1@localhost:5432/realestate_db'\n",
    "engine = create_engine(f'postgresql://{rds_connection_string}')\n",
    "coordinatesDF.to_sql(name= 'coordinates_df', con=engine, if_exists = 'replace', index=False)"
   ]
  },
  {
   "cell_type": "code",
   "execution_count": null,
   "metadata": {},
   "outputs": [],
   "source": []
  }
 ],
 "metadata": {
  "kernelspec": {
   "display_name": "Python 3",
   "language": "python",
   "name": "python3"
  },
  "language_info": {
   "codemirror_mode": {
    "name": "ipython",
    "version": 3
   },
   "file_extension": ".py",
   "mimetype": "text/x-python",
   "name": "python",
   "nbconvert_exporter": "python",
   "pygments_lexer": "ipython3",
   "version": "3.7.6"
  }
 },
 "nbformat": 4,
 "nbformat_minor": 2
}
